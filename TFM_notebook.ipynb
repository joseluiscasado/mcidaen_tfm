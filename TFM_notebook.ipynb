{
 "cells": [
  {
   "cell_type": "code",
   "execution_count": 1,
   "id": "511d63bd-f465-4c22-b288-84c3afc3e67c",
   "metadata": {},
   "outputs": [],
   "source": [
    "#!pip install pandas\n",
    "#!pip install numpy\n",
    "#!pip install seaborn\n",
    "#!pip install matplotlib"
   ]
  },
  {
   "cell_type": "code",
   "execution_count": 1,
   "id": "80366bb4-293d-4821-8b09-ee7d930fed4b",
   "metadata": {},
   "outputs": [
    {
     "data": {
      "text/html": [
       "<style>.container { width:95% !important; }</style>"
      ],
      "text/plain": [
       "<IPython.core.display.HTML object>"
      ]
     },
     "metadata": {},
     "output_type": "display_data"
    }
   ],
   "source": [
    "import numpy as np\n",
    "import pandas as pd\n",
    "\n",
    "import matplotlib.pyplot as plt\n",
    "import seaborn as sns;\n",
    "sns.set()\n",
    "\n",
    "# Optimiza los gráficos para pantalla retina\n",
    "%config InlineBackend.figure_format = 'retina'\n",
    "# Por defecto usamos el backend inline\n",
    "%matplotlib inline\n",
    "\n",
    "# La libreta ocupa así el 95% de la pantalla\n",
    "from IPython.core.display import display, HTML\n",
    "display(HTML(\"<style>.container { width:95% !important; }</style>\"))"
   ]
  },
  {
   "cell_type": "markdown",
   "id": "90745f44-2659-4b3c-a58f-449acd73de51",
   "metadata": {},
   "source": [
    "1.- Carga de datos"
   ]
  },
  {
   "cell_type": "code",
   "execution_count": 2,
   "id": "2f631417-4cf1-4649-8f43-41b3350be006",
   "metadata": {},
   "outputs": [
    {
     "data": {
      "text/html": [
       "<div>\n",
       "<style scoped>\n",
       "    .dataframe tbody tr th:only-of-type {\n",
       "        vertical-align: middle;\n",
       "    }\n",
       "\n",
       "    .dataframe tbody tr th {\n",
       "        vertical-align: top;\n",
       "    }\n",
       "\n",
       "    .dataframe thead th {\n",
       "        text-align: right;\n",
       "    }\n",
       "</style>\n",
       "<table border=\"1\" class=\"dataframe\">\n",
       "  <thead>\n",
       "    <tr style=\"text-align: right;\">\n",
       "      <th></th>\n",
       "      <th>fecha_inicio</th>\n",
       "      <th>fecha_fin</th>\n",
       "      <th>cantidad_solicitada</th>\n",
       "      <th>cantidad_dosificada</th>\n",
       "      <th>mezcla</th>\n",
       "      <th>pesada</th>\n",
       "      <th>peso_inicial</th>\n",
       "      <th>manual</th>\n",
       "      <th>id_lote_destino</th>\n",
       "      <th>materia_origen</th>\n",
       "      <th>materia_destino</th>\n",
       "      <th>id_silo</th>\n",
       "      <th>tipo_materia</th>\n",
       "      <th>tipo_destino</th>\n",
       "      <th>densidad</th>\n",
       "      <th>tam_mezcla</th>\n",
       "      <th>desviacion</th>\n",
       "    </tr>\n",
       "    <tr>\n",
       "      <th>codigo</th>\n",
       "      <th></th>\n",
       "      <th></th>\n",
       "      <th></th>\n",
       "      <th></th>\n",
       "      <th></th>\n",
       "      <th></th>\n",
       "      <th></th>\n",
       "      <th></th>\n",
       "      <th></th>\n",
       "      <th></th>\n",
       "      <th></th>\n",
       "      <th></th>\n",
       "      <th></th>\n",
       "      <th></th>\n",
       "      <th></th>\n",
       "      <th></th>\n",
       "      <th></th>\n",
       "    </tr>\n",
       "  </thead>\n",
       "  <tbody>\n",
       "    <tr>\n",
       "      <th>1308958</th>\n",
       "      <td>2018-01-01 21:58:18</td>\n",
       "      <td>2018-01-01 22:00:15</td>\n",
       "      <td>1600.078404</td>\n",
       "      <td>1606.0</td>\n",
       "      <td>1</td>\n",
       "      <td>0</td>\n",
       "      <td>-12</td>\n",
       "      <td>0</td>\n",
       "      <td>232527</td>\n",
       "      <td>8</td>\n",
       "      <td>285</td>\n",
       "      <td>1</td>\n",
       "      <td>Prima</td>\n",
       "      <td>Formula</td>\n",
       "      <td>1</td>\n",
       "      <td>4000</td>\n",
       "      <td>5.921596</td>\n",
       "    </tr>\n",
       "    <tr>\n",
       "      <th>1308975</th>\n",
       "      <td>2018-01-01 22:05:50</td>\n",
       "      <td>2018-01-01 22:07:48</td>\n",
       "      <td>1600.078404</td>\n",
       "      <td>1602.0</td>\n",
       "      <td>2</td>\n",
       "      <td>0</td>\n",
       "      <td>-21</td>\n",
       "      <td>0</td>\n",
       "      <td>232527</td>\n",
       "      <td>8</td>\n",
       "      <td>285</td>\n",
       "      <td>1</td>\n",
       "      <td>Prima</td>\n",
       "      <td>Formula</td>\n",
       "      <td>1</td>\n",
       "      <td>4000</td>\n",
       "      <td>1.921596</td>\n",
       "    </tr>\n",
       "    <tr>\n",
       "      <th>1308987</th>\n",
       "      <td>2018-01-01 22:13:08</td>\n",
       "      <td>2018-01-01 22:15:06</td>\n",
       "      <td>1600.078404</td>\n",
       "      <td>1596.0</td>\n",
       "      <td>3</td>\n",
       "      <td>0</td>\n",
       "      <td>-29</td>\n",
       "      <td>0</td>\n",
       "      <td>232527</td>\n",
       "      <td>8</td>\n",
       "      <td>285</td>\n",
       "      <td>1</td>\n",
       "      <td>Prima</td>\n",
       "      <td>Formula</td>\n",
       "      <td>1</td>\n",
       "      <td>4000</td>\n",
       "      <td>-4.078404</td>\n",
       "    </tr>\n",
       "    <tr>\n",
       "      <th>1309003</th>\n",
       "      <td>2018-01-01 22:20:17</td>\n",
       "      <td>2018-01-01 22:22:15</td>\n",
       "      <td>1600.078404</td>\n",
       "      <td>1600.0</td>\n",
       "      <td>4</td>\n",
       "      <td>0</td>\n",
       "      <td>-29</td>\n",
       "      <td>0</td>\n",
       "      <td>232527</td>\n",
       "      <td>8</td>\n",
       "      <td>285</td>\n",
       "      <td>1</td>\n",
       "      <td>Prima</td>\n",
       "      <td>Formula</td>\n",
       "      <td>1</td>\n",
       "      <td>4000</td>\n",
       "      <td>-0.078404</td>\n",
       "    </tr>\n",
       "    <tr>\n",
       "      <th>1309022</th>\n",
       "      <td>2018-01-01 22:27:53</td>\n",
       "      <td>2018-01-01 22:29:52</td>\n",
       "      <td>1600.078404</td>\n",
       "      <td>1598.0</td>\n",
       "      <td>5</td>\n",
       "      <td>0</td>\n",
       "      <td>-29</td>\n",
       "      <td>0</td>\n",
       "      <td>232527</td>\n",
       "      <td>8</td>\n",
       "      <td>285</td>\n",
       "      <td>1</td>\n",
       "      <td>Prima</td>\n",
       "      <td>Formula</td>\n",
       "      <td>1</td>\n",
       "      <td>4000</td>\n",
       "      <td>-2.078404</td>\n",
       "    </tr>\n",
       "  </tbody>\n",
       "</table>\n",
       "</div>"
      ],
      "text/plain": [
       "               fecha_inicio           fecha_fin  cantidad_solicitada  \\\n",
       "codigo                                                                 \n",
       "1308958 2018-01-01 21:58:18 2018-01-01 22:00:15          1600.078404   \n",
       "1308975 2018-01-01 22:05:50 2018-01-01 22:07:48          1600.078404   \n",
       "1308987 2018-01-01 22:13:08 2018-01-01 22:15:06          1600.078404   \n",
       "1309003 2018-01-01 22:20:17 2018-01-01 22:22:15          1600.078404   \n",
       "1309022 2018-01-01 22:27:53 2018-01-01 22:29:52          1600.078404   \n",
       "\n",
       "         cantidad_dosificada  mezcla  pesada  peso_inicial  manual  \\\n",
       "codigo                                                               \n",
       "1308958               1606.0       1       0           -12       0   \n",
       "1308975               1602.0       2       0           -21       0   \n",
       "1308987               1596.0       3       0           -29       0   \n",
       "1309003               1600.0       4       0           -29       0   \n",
       "1309022               1598.0       5       0           -29       0   \n",
       "\n",
       "         id_lote_destino  materia_origen  materia_destino  id_silo  \\\n",
       "codigo                                                               \n",
       "1308958           232527               8              285        1   \n",
       "1308975           232527               8              285        1   \n",
       "1308987           232527               8              285        1   \n",
       "1309003           232527               8              285        1   \n",
       "1309022           232527               8              285        1   \n",
       "\n",
       "        tipo_materia tipo_destino  densidad  tam_mezcla  desviacion  \n",
       "codigo                                                               \n",
       "1308958        Prima      Formula         1        4000    5.921596  \n",
       "1308975        Prima      Formula         1        4000    1.921596  \n",
       "1308987        Prima      Formula         1        4000   -4.078404  \n",
       "1309003        Prima      Formula         1        4000   -0.078404  \n",
       "1309022        Prima      Formula         1        4000   -2.078404  "
      ]
     },
     "execution_count": 2,
     "metadata": {},
     "output_type": "execute_result"
    }
   ],
   "source": [
    "df_dosificaciones = pd.read_csv('datos/datos.zip', compression='zip', \\\n",
    "                    sep=',', na_values='\\\\N', index_col='codigo', \\\n",
    "                    parse_dates=['fecha_inicio', 'fecha_fin'])\n",
    "df_dosificaciones.head(5)"
   ]
  },
  {
   "cell_type": "markdown",
   "id": "11f751c3-a395-444e-a38d-2304bd48290d",
   "metadata": {},
   "source": [
    "2.- Exploracion de datos"
   ]
  },
  {
   "cell_type": "code",
   "execution_count": 11,
   "id": "2c1e7b76-571c-47c6-959b-11948f03010d",
   "metadata": {},
   "outputs": [
    {
     "name": "stdout",
     "output_type": "stream",
     "text": [
      "<class 'pandas.core.frame.DataFrame'>\n",
      "Int64Index: 419998 entries, 1308958 to 3211250\n",
      "Data columns (total 19 columns):\n",
      " #   Column               Non-Null Count   Dtype         \n",
      "---  ------               --------------   -----         \n",
      " 0   fecha_inicio         419998 non-null  datetime64[ns]\n",
      " 1   fecha_fin            419998 non-null  datetime64[ns]\n",
      " 2   cantidad_solicitada  419998 non-null  float64       \n",
      " 3   cantidad_dosificada  419998 non-null  float64       \n",
      " 4   mezcla               419998 non-null  int64         \n",
      " 5   pesada               419998 non-null  int64         \n",
      " 6   peso_inicial         419998 non-null  int64         \n",
      " 7   manual               419998 non-null  int64         \n",
      " 8   id_lote_destino      419998 non-null  int64         \n",
      " 9   materia_origen       419998 non-null  int64         \n",
      " 10  materia_destino      419998 non-null  int64         \n",
      " 11  id_silo              419998 non-null  int64         \n",
      " 12  tipo_materia         419998 non-null  object        \n",
      " 13  tipo_destino         419998 non-null  object        \n",
      " 14  densidad             419998 non-null  int64         \n",
      " 15  tam_mezcla           419998 non-null  int64         \n",
      " 16  desviacion           419998 non-null  float64       \n",
      " 17  duracion             419998 non-null  object        \n",
      " 18  orden                419998 non-null  int64         \n",
      "dtypes: datetime64[ns](2), float64(3), int64(11), object(3)\n",
      "memory usage: 64.1+ MB\n"
     ]
    }
   ],
   "source": [
    "df_dosificaciones.info()"
   ]
  },
  {
   "cell_type": "markdown",
   "id": "b9393b76-f0f8-43d8-836b-17de7f57f349",
   "metadata": {},
   "source": [
    "3.- Calculamos la duración de cada dosificación"
   ]
  },
  {
   "cell_type": "code",
   "execution_count": 68,
   "id": "1f4aa7a9-d440-4de3-9d47-17b5edbbd0b8",
   "metadata": {},
   "outputs": [],
   "source": [
    "df_dosificaciones['duracion'] = df_dosificaciones['fecha_fin'] - df_dosificaciones['fecha_inicio']"
   ]
  },
  {
   "cell_type": "markdown",
   "id": "936a3740-8ad0-4e04-aba0-525327b318b3",
   "metadata": {},
   "source": [
    "4.- Calculamos el orden de cada dosificacion dentro de cada mezcla"
   ]
  },
  {
   "cell_type": "code",
   "execution_count": 69,
   "id": "450974ff-d363-4d24-918a-725458235007",
   "metadata": {},
   "outputs": [
    {
     "name": "stderr",
     "output_type": "stream",
     "text": [
      "/Users/jlcasado/MCIDAEN/mc1-tfm/venv/lib/python3.7/site-packages/ipykernel_launcher.py:11: SettingWithCopyWarning: \n",
      "A value is trying to be set on a copy of a slice from a DataFrame\n",
      "\n",
      "See the caveats in the documentation: https://pandas.pydata.org/pandas-docs/stable/user_guide/indexing.html#returning-a-view-versus-a-copy\n",
      "  # This is added back by InteractiveShellApp.init_path()\n"
     ]
    }
   ],
   "source": [
    "df_dosificaciones = df_dosificaciones.sort_values(['codigo'])\n",
    "df_dosificaciones['orden'] = 0\n",
    "hskeys = {}\n",
    "for key, row in df_dosificaciones.iterrows():\n",
    "    hskey = str(row['mezcla'])+\"-\"+str(row['id_lote_destino'])+\"-\"+str(row['pesada'])\n",
    "    valor = 0\n",
    "    if (hskey in hskeys):\n",
    "        valor = hskeys[hskey]\n",
    "    \n",
    "    hskeys[hskey] = valor + 1\n",
    "    df_dosificaciones['orden'][key] = hskeys[hskey]"
   ]
  },
  {
   "cell_type": "code",
   "execution_count": 70,
   "id": "bb9f8ed9-39bd-4e75-9a1d-a56728f768bf",
   "metadata": {},
   "outputs": [],
   "source": [
    "# Guardo los datos por ahorrar tiempo en posteriores pruebas\n",
    "df_dosificaciones.to_csv('datos/data_parser.zip', compression='zip')"
   ]
  },
  {
   "cell_type": "code",
   "execution_count": 12,
   "id": "c4243b5a-3c11-4246-b170-85a34e62a046",
   "metadata": {},
   "outputs": [],
   "source": [
    "df_dosificaciones = pd.read_csv('datos/data_parser.zip', compression='zip', \\\n",
    "                    sep=',', na_values='\\\\N', index_col='codigo', \\\n",
    "                    parse_dates=['fecha_inicio', 'fecha_fin'])"
   ]
  },
  {
   "cell_type": "code",
   "execution_count": 13,
   "id": "aa24c4af-3d18-4440-acca-1010b8684bf5",
   "metadata": {},
   "outputs": [
    {
     "name": "stdout",
     "output_type": "stream",
     "text": [
      "<class 'pandas.core.frame.DataFrame'>\n",
      "Int64Index: 419998 entries, 1308958 to 3211250\n",
      "Data columns (total 19 columns):\n",
      " #   Column               Non-Null Count   Dtype          \n",
      "---  ------               --------------   -----          \n",
      " 0   fecha_inicio         419998 non-null  datetime64[ns] \n",
      " 1   fecha_fin            419998 non-null  datetime64[ns] \n",
      " 2   cantidad_solicitada  419998 non-null  float64        \n",
      " 3   cantidad_dosificada  419998 non-null  float64        \n",
      " 4   mezcla               419998 non-null  int64          \n",
      " 5   pesada               419998 non-null  int64          \n",
      " 6   peso_inicial         419998 non-null  int64          \n",
      " 7   manual               419998 non-null  int64          \n",
      " 8   id_lote_destino      419998 non-null  int64          \n",
      " 9   materia_origen       419998 non-null  int64          \n",
      " 10  materia_destino      419998 non-null  int64          \n",
      " 11  id_silo              419998 non-null  int64          \n",
      " 12  tipo_materia         419998 non-null  object         \n",
      " 13  tipo_destino         419998 non-null  object         \n",
      " 14  densidad             419998 non-null  int64          \n",
      " 15  tam_mezcla           419998 non-null  int64          \n",
      " 16  desviacion           419998 non-null  float64        \n",
      " 17  duracion             419998 non-null  timedelta64[ns]\n",
      " 18  orden                419998 non-null  int64          \n",
      "dtypes: datetime64[ns](2), float64(3), int64(11), object(2), timedelta64[ns](1)\n",
      "memory usage: 64.1+ MB\n"
     ]
    }
   ],
   "source": [
    "df_dosificaciones['duracion'] = pd.to_timedelta(df_dosificaciones['duracion'])\n",
    "df_dosificaciones.info()"
   ]
  },
  {
   "cell_type": "code",
   "execution_count": 4,
   "id": "b5771158-8c83-420b-83e0-9ba354258e90",
   "metadata": {},
   "outputs": [
    {
     "data": {
      "text/plain": [
       "fecha_inicio           0\n",
       "fecha_fin              0\n",
       "cantidad_solicitada    0\n",
       "cantidad_dosificada    0\n",
       "mezcla                 0\n",
       "pesada                 0\n",
       "peso_inicial           0\n",
       "manual                 0\n",
       "id_lote_destino        0\n",
       "materia_origen         0\n",
       "materia_destino        0\n",
       "id_silo                0\n",
       "tipo_materia           0\n",
       "tipo_destino           0\n",
       "densidad               0\n",
       "tam_mezcla             0\n",
       "desviacion             0\n",
       "duracion               0\n",
       "orden                  0\n",
       "dtype: int64"
      ]
     },
     "execution_count": 4,
     "metadata": {},
     "output_type": "execute_result"
    }
   ],
   "source": [
    "df_dosificaciones.isnull().sum()"
   ]
  },
  {
   "cell_type": "markdown",
   "id": "a3a8e321-b3da-4f89-a162-33ad638e4429",
   "metadata": {},
   "source": [
    "5.- Miro los valores unicos para variables con pocos valores (Todas esta columanas serán desechadas ya que no aportan gran informacion)"
   ]
  },
  {
   "cell_type": "code",
   "execution_count": 5,
   "id": "02ef8ebd-c732-4b74-91fd-73fdfe599bf2",
   "metadata": {},
   "outputs": [
    {
     "name": "stdout",
     "output_type": "stream",
     "text": [
      "pesada: \n",
      "[0 1]\n",
      "manual: \n",
      "[0]\n",
      "tipo_materia: \n",
      "['Prima']\n",
      "tipo_destino: \n",
      "['Formula']\n",
      "densidad: \n",
      "[1]\n"
     ]
    }
   ],
   "source": [
    "for col in df_dosificaciones:\n",
    "    if (df_dosificaciones[col].nunique() < 5):\n",
    "        print(col + \": \")\n",
    "        print(df_dosificaciones[col].unique())"
   ]
  },
  {
   "cell_type": "markdown",
   "id": "ea150f3b-8eb4-4bde-a2a9-db7763365a08",
   "metadata": {},
   "source": [
    "6.- Obtengo los estadisticos de las variables numericas"
   ]
  },
  {
   "cell_type": "code",
   "execution_count": 6,
   "id": "1485965a-8052-49d5-ba43-d41a9edae457",
   "metadata": {},
   "outputs": [
    {
     "data": {
      "text/html": [
       "<div>\n",
       "<style scoped>\n",
       "    .dataframe tbody tr th:only-of-type {\n",
       "        vertical-align: middle;\n",
       "    }\n",
       "\n",
       "    .dataframe tbody tr th {\n",
       "        vertical-align: top;\n",
       "    }\n",
       "\n",
       "    .dataframe thead th {\n",
       "        text-align: right;\n",
       "    }\n",
       "</style>\n",
       "<table border=\"1\" class=\"dataframe\">\n",
       "  <thead>\n",
       "    <tr style=\"text-align: right;\">\n",
       "      <th></th>\n",
       "      <th>cantidad_solicitada</th>\n",
       "      <th>cantidad_dosificada</th>\n",
       "      <th>peso_inicial</th>\n",
       "      <th>tam_mezcla</th>\n",
       "      <th>desviacion</th>\n",
       "    </tr>\n",
       "  </thead>\n",
       "  <tbody>\n",
       "    <tr>\n",
       "      <th>count</th>\n",
       "      <td>419998.000000</td>\n",
       "      <td>419998.000000</td>\n",
       "      <td>419998.000000</td>\n",
       "      <td>419998.000000</td>\n",
       "      <td>419998.000000</td>\n",
       "    </tr>\n",
       "    <tr>\n",
       "      <th>mean</th>\n",
       "      <td>790.988597</td>\n",
       "      <td>791.457719</td>\n",
       "      <td>1348.815580</td>\n",
       "      <td>4000.872390</td>\n",
       "      <td>0.469122</td>\n",
       "    </tr>\n",
       "    <tr>\n",
       "      <th>std</th>\n",
       "      <td>740.677947</td>\n",
       "      <td>740.723612</td>\n",
       "      <td>1250.598749</td>\n",
       "      <td>211.039686</td>\n",
       "      <td>13.200351</td>\n",
       "    </tr>\n",
       "    <tr>\n",
       "      <th>min</th>\n",
       "      <td>0.000000</td>\n",
       "      <td>0.000000</td>\n",
       "      <td>-64.000000</td>\n",
       "      <td>400.000000</td>\n",
       "      <td>-1848.190362</td>\n",
       "    </tr>\n",
       "    <tr>\n",
       "      <th>25%</th>\n",
       "      <td>160.000000</td>\n",
       "      <td>162.000000</td>\n",
       "      <td>11.000000</td>\n",
       "      <td>4000.000000</td>\n",
       "      <td>-3.166597</td>\n",
       "    </tr>\n",
       "    <tr>\n",
       "      <th>50%</th>\n",
       "      <td>639.993600</td>\n",
       "      <td>651.000000</td>\n",
       "      <td>1577.000000</td>\n",
       "      <td>4000.000000</td>\n",
       "      <td>0.007899</td>\n",
       "    </tr>\n",
       "    <tr>\n",
       "      <th>75%</th>\n",
       "      <td>1162.392137</td>\n",
       "      <td>1163.000000</td>\n",
       "      <td>2602.000000</td>\n",
       "      <td>4040.000000</td>\n",
       "      <td>3.349073</td>\n",
       "    </tr>\n",
       "    <tr>\n",
       "      <th>max</th>\n",
       "      <td>3121.984940</td>\n",
       "      <td>3127.000000</td>\n",
       "      <td>3995.000000</td>\n",
       "      <td>4500.000000</td>\n",
       "      <td>1179.891694</td>\n",
       "    </tr>\n",
       "  </tbody>\n",
       "</table>\n",
       "</div>"
      ],
      "text/plain": [
       "       cantidad_solicitada  cantidad_dosificada   peso_inicial     tam_mezcla  \\\n",
       "count        419998.000000        419998.000000  419998.000000  419998.000000   \n",
       "mean            790.988597           791.457719    1348.815580    4000.872390   \n",
       "std             740.677947           740.723612    1250.598749     211.039686   \n",
       "min               0.000000             0.000000     -64.000000     400.000000   \n",
       "25%             160.000000           162.000000      11.000000    4000.000000   \n",
       "50%             639.993600           651.000000    1577.000000    4000.000000   \n",
       "75%            1162.392137          1163.000000    2602.000000    4040.000000   \n",
       "max            3121.984940          3127.000000    3995.000000    4500.000000   \n",
       "\n",
       "          desviacion  \n",
       "count  419998.000000  \n",
       "mean        0.469122  \n",
       "std        13.200351  \n",
       "min     -1848.190362  \n",
       "25%        -3.166597  \n",
       "50%         0.007899  \n",
       "75%         3.349073  \n",
       "max      1179.891694  "
      ]
     },
     "execution_count": 6,
     "metadata": {},
     "output_type": "execute_result"
    }
   ],
   "source": [
    "df_dosificaciones[['cantidad_solicitada','cantidad_dosificada', \\\n",
    "                   'peso_inicial','tam_mezcla', 'duracion', 'desviacion']].describe()"
   ]
  },
  {
   "cell_type": "code",
   "execution_count": 7,
   "id": "7216a246-9743-4418-baab-3c9849542990",
   "metadata": {},
   "outputs": [
    {
     "data": {
      "image/png": "[encoded data removed]",
      "text/plain": [
       "<Figure size 1152x432 with 1 Axes>"
      ]
     },
     "metadata": {
      "image/png": {
       "height": 360,
       "width": 947
      },
      "needs_background": "light"
     },
     "output_type": "display_data"
    }
   ],
   "source": [
    "plt.figure(figsize=(16, 6))\n",
    "sns.boxplot(data=df_dosificaciones[['cantidad_solicitada','cantidad_dosificada','peso_inicial','tam_mezcla', 'duracion', 'desviacion']], palette=\"Set2\")\n",
    "\n",
    "plt.show()"
   ]
  },
  {
   "cell_type": "markdown",
   "id": "31452fa6-cc49-44cc-8d7b-67f5a28fbbf3",
   "metadata": {},
   "source": [
    "7.- Filtrado de los datos que pueden producir ruido"
   ]
  },
  {
   "cell_type": "code",
   "execution_count": 14,
   "id": "718d762c-1c3c-4619-afd5-f43eabfb688a",
   "metadata": {},
   "outputs": [],
   "source": [
    "df_dosificaciones = df_dosificaciones[(df_dosificaciones['cantidad_solicitada'] > 0) &\n",
    "                  (df_dosificaciones['cantidad_solicitada'] < 2500) &\n",
    "                  (df_dosificaciones['cantidad_dosificada'] > 1) &\n",
    "                  (df_dosificaciones['cantidad_dosificada'] < 3000) &\n",
    "                  (df_dosificaciones['desviacion'] > -40) &\n",
    "                  (df_dosificaciones['desviacion'] < 40) &\n",
    "                  (df_dosificaciones['peso_inicial'] < 3000) &\n",
    "                  (df_dosificaciones['duracion'].dt.total_seconds() < 60)]"
   ]
  },
  {
   "cell_type": "code",
   "execution_count": 15,
   "id": "0ce32e4b-aa7a-4c77-904c-6bdcbf2dd27d",
   "metadata": {},
   "outputs": [
    {
     "name": "stdout",
     "output_type": "stream",
     "text": [
      "<class 'pandas.core.frame.DataFrame'>\n",
      "Int64Index: 315201 entries, 1308966 to 3211250\n",
      "Data columns (total 19 columns):\n",
      " #   Column               Non-Null Count   Dtype          \n",
      "---  ------               --------------   -----          \n",
      " 0   fecha_inicio         315201 non-null  datetime64[ns] \n",
      " 1   fecha_fin            315201 non-null  datetime64[ns] \n",
      " 2   cantidad_solicitada  315201 non-null  float64        \n",
      " 3   cantidad_dosificada  315201 non-null  float64        \n",
      " 4   mezcla               315201 non-null  int64          \n",
      " 5   pesada               315201 non-null  int64          \n",
      " 6   peso_inicial         315201 non-null  int64          \n",
      " 7   manual               315201 non-null  int64          \n",
      " 8   id_lote_destino      315201 non-null  int64          \n",
      " 9   materia_origen       315201 non-null  int64          \n",
      " 10  materia_destino      315201 non-null  int64          \n",
      " 11  id_silo              315201 non-null  int64          \n",
      " 12  tipo_materia         315201 non-null  object         \n",
      " 13  tipo_destino         315201 non-null  object         \n",
      " 14  densidad             315201 non-null  int64          \n",
      " 15  tam_mezcla           315201 non-null  int64          \n",
      " 16  desviacion           315201 non-null  float64        \n",
      " 17  duracion             315201 non-null  timedelta64[ns]\n",
      " 18  orden                315201 non-null  int64          \n",
      "dtypes: datetime64[ns](2), float64(3), int64(11), object(2), timedelta64[ns](1)\n",
      "memory usage: 48.1+ MB\n"
     ]
    }
   ],
   "source": [
    "df_dosificaciones.info()"
   ]
  },
  {
   "cell_type": "markdown",
   "id": "973f1132-1e59-4f48-907a-f25fed122f9a",
   "metadata": {
    "tags": []
   },
   "source": [
    "8.- Eliminación de columnas que no aportan información"
   ]
  },
  {
   "cell_type": "code",
   "execution_count": 16,
   "id": "bae41611-3029-41a4-90d3-58054efa6cad",
   "metadata": {
    "tags": []
   },
   "outputs": [],
   "source": [
    "columns_delete = ['fecha_fin','cantidad_dosificada', \\\n",
    "                  'manual','densidad','tipo_materia', \\\n",
    "                  'tipo_destino','id_lote_destino']\n",
    "df_dosificaciones.drop(columns=columns_delete, inplace=True)"
   ]
  },
  {
   "cell_type": "code",
   "execution_count": 17,
   "id": "888ff7c0-bd97-4377-836a-7d5b1d0730c4",
   "metadata": {},
   "outputs": [
    {
     "name": "stdout",
     "output_type": "stream",
     "text": [
      "<class 'pandas.core.frame.DataFrame'>\n",
      "Int64Index: 315201 entries, 1308966 to 3211250\n",
      "Data columns (total 12 columns):\n",
      " #   Column               Non-Null Count   Dtype          \n",
      "---  ------               --------------   -----          \n",
      " 0   fecha_inicio         315201 non-null  datetime64[ns] \n",
      " 1   cantidad_solicitada  315201 non-null  float64        \n",
      " 2   mezcla               315201 non-null  int64          \n",
      " 3   pesada               315201 non-null  int64          \n",
      " 4   peso_inicial         315201 non-null  int64          \n",
      " 5   materia_origen       315201 non-null  int64          \n",
      " 6   materia_destino      315201 non-null  int64          \n",
      " 7   id_silo              315201 non-null  int64          \n",
      " 8   tam_mezcla           315201 non-null  int64          \n",
      " 9   desviacion           315201 non-null  float64        \n",
      " 10  duracion             315201 non-null  timedelta64[ns]\n",
      " 11  orden                315201 non-null  int64          \n",
      "dtypes: datetime64[ns](1), float64(2), int64(8), timedelta64[ns](1)\n",
      "memory usage: 31.3 MB\n"
     ]
    }
   ],
   "source": [
    "df_dosificaciones.info()"
   ]
  },
  {
   "cell_type": "code",
   "execution_count": 18,
   "id": "2debf3b9-9f02-4656-9253-221a0a656450",
   "metadata": {},
   "outputs": [
    {
     "data": {
      "text/html": [
       "<div>\n",
       "<style scoped>\n",
       "    .dataframe tbody tr th:only-of-type {\n",
       "        vertical-align: middle;\n",
       "    }\n",
       "\n",
       "    .dataframe tbody tr th {\n",
       "        vertical-align: top;\n",
       "    }\n",
       "\n",
       "    .dataframe thead th {\n",
       "        text-align: right;\n",
       "    }\n",
       "</style>\n",
       "<table border=\"1\" class=\"dataframe\">\n",
       "  <thead>\n",
       "    <tr style=\"text-align: right;\">\n",
       "      <th></th>\n",
       "      <th>fecha_inicio</th>\n",
       "      <th>cantidad_solicitada</th>\n",
       "      <th>mezcla</th>\n",
       "      <th>pesada</th>\n",
       "      <th>peso_inicial</th>\n",
       "      <th>materia_origen</th>\n",
       "      <th>materia_destino</th>\n",
       "      <th>id_silo</th>\n",
       "      <th>tam_mezcla</th>\n",
       "      <th>desviacion</th>\n",
       "      <th>duracion</th>\n",
       "      <th>orden</th>\n",
       "    </tr>\n",
       "    <tr>\n",
       "      <th>codigo</th>\n",
       "      <th></th>\n",
       "      <th></th>\n",
       "      <th></th>\n",
       "      <th></th>\n",
       "      <th></th>\n",
       "      <th></th>\n",
       "      <th></th>\n",
       "      <th></th>\n",
       "      <th></th>\n",
       "      <th></th>\n",
       "      <th></th>\n",
       "      <th></th>\n",
       "    </tr>\n",
       "  </thead>\n",
       "  <tbody>\n",
       "    <tr>\n",
       "      <th>1308966</th>\n",
       "      <td>2018-01-01 22:00:15</td>\n",
       "      <td>1187.738199</td>\n",
       "      <td>1</td>\n",
       "      <td>0</td>\n",
       "      <td>1592</td>\n",
       "      <td>176</td>\n",
       "      <td>285</td>\n",
       "      <td>15</td>\n",
       "      <td>4000</td>\n",
       "      <td>20.261801</td>\n",
       "      <td>0 days 00:00:53</td>\n",
       "      <td>2</td>\n",
       "    </tr>\n",
       "    <tr>\n",
       "      <th>1308971</th>\n",
       "      <td>2018-01-01 22:01:08</td>\n",
       "      <td>180.008820</td>\n",
       "      <td>1</td>\n",
       "      <td>0</td>\n",
       "      <td>2799</td>\n",
       "      <td>33</td>\n",
       "      <td>285</td>\n",
       "      <td>17</td>\n",
       "      <td>4000</td>\n",
       "      <td>-2.008820</td>\n",
       "      <td>0 days 00:00:19</td>\n",
       "      <td>3</td>\n",
       "    </tr>\n",
       "    <tr>\n",
       "      <th>1308973</th>\n",
       "      <td>2018-01-01 22:02:11</td>\n",
       "      <td>768.557659</td>\n",
       "      <td>1</td>\n",
       "      <td>1</td>\n",
       "      <td>2</td>\n",
       "      <td>184</td>\n",
       "      <td>285</td>\n",
       "      <td>14</td>\n",
       "      <td>4000</td>\n",
       "      <td>-5.557659</td>\n",
       "      <td>0 days 00:00:41</td>\n",
       "      <td>1</td>\n",
       "    </tr>\n",
       "    <tr>\n",
       "      <th>1308978</th>\n",
       "      <td>2018-01-01 22:07:49</td>\n",
       "      <td>1187.738199</td>\n",
       "      <td>2</td>\n",
       "      <td>0</td>\n",
       "      <td>1581</td>\n",
       "      <td>176</td>\n",
       "      <td>285</td>\n",
       "      <td>15</td>\n",
       "      <td>4000</td>\n",
       "      <td>0.261801</td>\n",
       "      <td>0 days 00:00:46</td>\n",
       "      <td>2</td>\n",
       "    </tr>\n",
       "    <tr>\n",
       "      <th>1308980</th>\n",
       "      <td>2018-01-01 22:08:36</td>\n",
       "      <td>180.008820</td>\n",
       "      <td>2</td>\n",
       "      <td>0</td>\n",
       "      <td>2769</td>\n",
       "      <td>33</td>\n",
       "      <td>285</td>\n",
       "      <td>17</td>\n",
       "      <td>4000</td>\n",
       "      <td>0.991180</td>\n",
       "      <td>0 days 00:00:21</td>\n",
       "      <td>3</td>\n",
       "    </tr>\n",
       "  </tbody>\n",
       "</table>\n",
       "</div>"
      ],
      "text/plain": [
       "               fecha_inicio  cantidad_solicitada  mezcla  pesada  \\\n",
       "codigo                                                             \n",
       "1308966 2018-01-01 22:00:15          1187.738199       1       0   \n",
       "1308971 2018-01-01 22:01:08           180.008820       1       0   \n",
       "1308973 2018-01-01 22:02:11           768.557659       1       1   \n",
       "1308978 2018-01-01 22:07:49          1187.738199       2       0   \n",
       "1308980 2018-01-01 22:08:36           180.008820       2       0   \n",
       "\n",
       "         peso_inicial  materia_origen  materia_destino  id_silo  tam_mezcla  \\\n",
       "codigo                                                                        \n",
       "1308966          1592             176              285       15        4000   \n",
       "1308971          2799              33              285       17        4000   \n",
       "1308973             2             184              285       14        4000   \n",
       "1308978          1581             176              285       15        4000   \n",
       "1308980          2769              33              285       17        4000   \n",
       "\n",
       "         desviacion        duracion  orden  \n",
       "codigo                                      \n",
       "1308966   20.261801 0 days 00:00:53      2  \n",
       "1308971   -2.008820 0 days 00:00:19      3  \n",
       "1308973   -5.557659 0 days 00:00:41      1  \n",
       "1308978    0.261801 0 days 00:00:46      2  \n",
       "1308980    0.991180 0 days 00:00:21      3  "
      ]
     },
     "execution_count": 18,
     "metadata": {},
     "output_type": "execute_result"
    }
   ],
   "source": [
    "df_dosificaciones.head(5)"
   ]
  },
  {
   "cell_type": "markdown",
   "id": "37697762-75c0-40fc-94a0-23a218c31f48",
   "metadata": {
    "jupyter": {
     "outputs_hidden": true
    },
    "tags": []
   },
   "source": [
    "9.- Creo que la hora y el dia de la semana pueden influir en la predicción por lo que añado las caracteristicas."
   ]
  },
  {
   "cell_type": "code",
   "execution_count": 19,
   "id": "885852ce-0462-49db-b372-6841c8e6aa29",
   "metadata": {
    "tags": []
   },
   "outputs": [],
   "source": [
    "#df_dosificaciones['mes'] = pd.DatetimeIndex(df_dosificaciones['fecha_inicio']).month\n",
    "#df_dosificaciones['dia'] = pd.DatetimeIndex(df_dosificaciones['fecha_inicio']).day\n",
    "df_dosificaciones['hora'] = pd.DatetimeIndex(df_dosificaciones['fecha_inicio']).hour\n",
    "df_dosificaciones['dow'] = pd.DatetimeIndex(df_dosificaciones['fecha_inicio']).dayofweek\n",
    "df_dosificaciones.drop(columns=['fecha_inicio'], inplace=True)"
   ]
  },
  {
   "cell_type": "code",
   "execution_count": 20,
   "id": "21421d61-47fd-4778-b938-50f221373cf1",
   "metadata": {},
   "outputs": [
    {
     "data": {
      "text/html": [
       "<div>\n",
       "<style scoped>\n",
       "    .dataframe tbody tr th:only-of-type {\n",
       "        vertical-align: middle;\n",
       "    }\n",
       "\n",
       "    .dataframe tbody tr th {\n",
       "        vertical-align: top;\n",
       "    }\n",
       "\n",
       "    .dataframe thead th {\n",
       "        text-align: right;\n",
       "    }\n",
       "</style>\n",
       "<table border=\"1\" class=\"dataframe\">\n",
       "  <thead>\n",
       "    <tr style=\"text-align: right;\">\n",
       "      <th></th>\n",
       "      <th>cantidad_solicitada</th>\n",
       "      <th>mezcla</th>\n",
       "      <th>pesada</th>\n",
       "      <th>peso_inicial</th>\n",
       "      <th>materia_origen</th>\n",
       "      <th>materia_destino</th>\n",
       "      <th>id_silo</th>\n",
       "      <th>tam_mezcla</th>\n",
       "      <th>desviacion</th>\n",
       "      <th>duracion</th>\n",
       "      <th>orden</th>\n",
       "      <th>hora</th>\n",
       "      <th>dow</th>\n",
       "    </tr>\n",
       "    <tr>\n",
       "      <th>codigo</th>\n",
       "      <th></th>\n",
       "      <th></th>\n",
       "      <th></th>\n",
       "      <th></th>\n",
       "      <th></th>\n",
       "      <th></th>\n",
       "      <th></th>\n",
       "      <th></th>\n",
       "      <th></th>\n",
       "      <th></th>\n",
       "      <th></th>\n",
       "      <th></th>\n",
       "      <th></th>\n",
       "    </tr>\n",
       "  </thead>\n",
       "  <tbody>\n",
       "    <tr>\n",
       "      <th>1308966</th>\n",
       "      <td>1187.738199</td>\n",
       "      <td>1</td>\n",
       "      <td>0</td>\n",
       "      <td>1592</td>\n",
       "      <td>176</td>\n",
       "      <td>285</td>\n",
       "      <td>15</td>\n",
       "      <td>4000</td>\n",
       "      <td>20.261801</td>\n",
       "      <td>0 days 00:00:53</td>\n",
       "      <td>2</td>\n",
       "      <td>22</td>\n",
       "      <td>0</td>\n",
       "    </tr>\n",
       "    <tr>\n",
       "      <th>1308971</th>\n",
       "      <td>180.008820</td>\n",
       "      <td>1</td>\n",
       "      <td>0</td>\n",
       "      <td>2799</td>\n",
       "      <td>33</td>\n",
       "      <td>285</td>\n",
       "      <td>17</td>\n",
       "      <td>4000</td>\n",
       "      <td>-2.008820</td>\n",
       "      <td>0 days 00:00:19</td>\n",
       "      <td>3</td>\n",
       "      <td>22</td>\n",
       "      <td>0</td>\n",
       "    </tr>\n",
       "    <tr>\n",
       "      <th>1308973</th>\n",
       "      <td>768.557659</td>\n",
       "      <td>1</td>\n",
       "      <td>1</td>\n",
       "      <td>2</td>\n",
       "      <td>184</td>\n",
       "      <td>285</td>\n",
       "      <td>14</td>\n",
       "      <td>4000</td>\n",
       "      <td>-5.557659</td>\n",
       "      <td>0 days 00:00:41</td>\n",
       "      <td>1</td>\n",
       "      <td>22</td>\n",
       "      <td>0</td>\n",
       "    </tr>\n",
       "    <tr>\n",
       "      <th>1308978</th>\n",
       "      <td>1187.738199</td>\n",
       "      <td>2</td>\n",
       "      <td>0</td>\n",
       "      <td>1581</td>\n",
       "      <td>176</td>\n",
       "      <td>285</td>\n",
       "      <td>15</td>\n",
       "      <td>4000</td>\n",
       "      <td>0.261801</td>\n",
       "      <td>0 days 00:00:46</td>\n",
       "      <td>2</td>\n",
       "      <td>22</td>\n",
       "      <td>0</td>\n",
       "    </tr>\n",
       "    <tr>\n",
       "      <th>1308980</th>\n",
       "      <td>180.008820</td>\n",
       "      <td>2</td>\n",
       "      <td>0</td>\n",
       "      <td>2769</td>\n",
       "      <td>33</td>\n",
       "      <td>285</td>\n",
       "      <td>17</td>\n",
       "      <td>4000</td>\n",
       "      <td>0.991180</td>\n",
       "      <td>0 days 00:00:21</td>\n",
       "      <td>3</td>\n",
       "      <td>22</td>\n",
       "      <td>0</td>\n",
       "    </tr>\n",
       "  </tbody>\n",
       "</table>\n",
       "</div>"
      ],
      "text/plain": [
       "         cantidad_solicitada  mezcla  pesada  peso_inicial  materia_origen  \\\n",
       "codigo                                                                       \n",
       "1308966          1187.738199       1       0          1592             176   \n",
       "1308971           180.008820       1       0          2799              33   \n",
       "1308973           768.557659       1       1             2             184   \n",
       "1308978          1187.738199       2       0          1581             176   \n",
       "1308980           180.008820       2       0          2769              33   \n",
       "\n",
       "         materia_destino  id_silo  tam_mezcla  desviacion        duracion  \\\n",
       "codigo                                                                      \n",
       "1308966              285       15        4000   20.261801 0 days 00:00:53   \n",
       "1308971              285       17        4000   -2.008820 0 days 00:00:19   \n",
       "1308973              285       14        4000   -5.557659 0 days 00:00:41   \n",
       "1308978              285       15        4000    0.261801 0 days 00:00:46   \n",
       "1308980              285       17        4000    0.991180 0 days 00:00:21   \n",
       "\n",
       "         orden  hora  dow  \n",
       "codigo                     \n",
       "1308966      2    22    0  \n",
       "1308971      3    22    0  \n",
       "1308973      1    22    0  \n",
       "1308978      2    22    0  \n",
       "1308980      3    22    0  "
      ]
     },
     "execution_count": 20,
     "metadata": {},
     "output_type": "execute_result"
    }
   ],
   "source": [
    "df_dosificaciones.head(5)"
   ]
  },
  {
   "cell_type": "markdown",
   "id": "cccf5ef9-9301-43c4-87aa-c74849c81306",
   "metadata": {},
   "source": [
    "Convertimos la columna TimeDelta a nanosegundos"
   ]
  },
  {
   "cell_type": "code",
   "execution_count": 35,
   "id": "6238629f-d2ac-4d74-ab5e-6af194d09474",
   "metadata": {},
   "outputs": [],
   "source": [
    "df_dosificaciones['duracion'] = df_dosificaciones['duracion'].dt.nanoseconds"
   ]
  },
  {
   "cell_type": "code",
   "execution_count": 36,
   "id": "b944552b-adcb-4fb6-85cc-f8d28bb94191",
   "metadata": {},
   "outputs": [
    {
     "name": "stdout",
     "output_type": "stream",
     "text": [
      "<class 'pandas.core.frame.DataFrame'>\n",
      "Int64Index: 315201 entries, 1308966 to 3211250\n",
      "Data columns (total 13 columns):\n",
      " #   Column               Non-Null Count   Dtype  \n",
      "---  ------               --------------   -----  \n",
      " 0   cantidad_solicitada  315201 non-null  float64\n",
      " 1   mezcla               315201 non-null  int64  \n",
      " 2   pesada               315201 non-null  int64  \n",
      " 3   peso_inicial         315201 non-null  int64  \n",
      " 4   materia_origen       315201 non-null  int64  \n",
      " 5   materia_destino      315201 non-null  int64  \n",
      " 6   id_silo              315201 non-null  int64  \n",
      " 7   tam_mezcla           315201 non-null  int64  \n",
      " 8   desviacion           315201 non-null  float64\n",
      " 9   duracion             315201 non-null  int64  \n",
      " 10  orden                315201 non-null  int64  \n",
      " 11  hora                 315201 non-null  int64  \n",
      " 12  dow                  315201 non-null  int64  \n",
      "dtypes: float64(2), int64(11)\n",
      "memory usage: 33.7 MB\n"
     ]
    }
   ],
   "source": [
    "df_dosificaciones.info()"
   ]
  },
  {
   "cell_type": "markdown",
   "id": "ae0cf5b3-1b81-4e56-b905-4c2330666774",
   "metadata": {},
   "source": [
    "10.- Miro la correlacion entre las variables."
   ]
  },
  {
   "cell_type": "code",
   "execution_count": 22,
   "id": "384c41b4-6186-437b-9f23-dcd498760227",
   "metadata": {},
   "outputs": [
    {
     "data": {
      "text/html": [
       "<div>\n",
       "<style scoped>\n",
       "    .dataframe tbody tr th:only-of-type {\n",
       "        vertical-align: middle;\n",
       "    }\n",
       "\n",
       "    .dataframe tbody tr th {\n",
       "        vertical-align: top;\n",
       "    }\n",
       "\n",
       "    .dataframe thead th {\n",
       "        text-align: right;\n",
       "    }\n",
       "</style>\n",
       "<table border=\"1\" class=\"dataframe\">\n",
       "  <thead>\n",
       "    <tr style=\"text-align: right;\">\n",
       "      <th></th>\n",
       "      <th>cantidad_solicitada</th>\n",
       "      <th>mezcla</th>\n",
       "      <th>pesada</th>\n",
       "      <th>peso_inicial</th>\n",
       "      <th>materia_origen</th>\n",
       "      <th>materia_destino</th>\n",
       "      <th>id_silo</th>\n",
       "      <th>tam_mezcla</th>\n",
       "      <th>desviacion</th>\n",
       "      <th>orden</th>\n",
       "      <th>hora</th>\n",
       "      <th>dow</th>\n",
       "    </tr>\n",
       "  </thead>\n",
       "  <tbody>\n",
       "    <tr>\n",
       "      <th>cantidad_solicitada</th>\n",
       "      <td>1.000000</td>\n",
       "      <td>-0.123361</td>\n",
       "      <td>0.391391</td>\n",
       "      <td>-0.760778</td>\n",
       "      <td>-0.440982</td>\n",
       "      <td>0.132007</td>\n",
       "      <td>0.152047</td>\n",
       "      <td>0.013296</td>\n",
       "      <td>0.006722</td>\n",
       "      <td>-0.723325</td>\n",
       "      <td>0.053407</td>\n",
       "      <td>-0.014068</td>\n",
       "    </tr>\n",
       "    <tr>\n",
       "      <th>mezcla</th>\n",
       "      <td>-0.123361</td>\n",
       "      <td>1.000000</td>\n",
       "      <td>-0.030502</td>\n",
       "      <td>0.092137</td>\n",
       "      <td>0.011761</td>\n",
       "      <td>-0.225016</td>\n",
       "      <td>-0.044029</td>\n",
       "      <td>0.006480</td>\n",
       "      <td>-0.011475</td>\n",
       "      <td>0.096397</td>\n",
       "      <td>-0.249985</td>\n",
       "      <td>0.076018</td>\n",
       "    </tr>\n",
       "    <tr>\n",
       "      <th>pesada</th>\n",
       "      <td>0.391391</td>\n",
       "      <td>-0.030502</td>\n",
       "      <td>1.000000</td>\n",
       "      <td>-0.826982</td>\n",
       "      <td>-0.275288</td>\n",
       "      <td>0.026524</td>\n",
       "      <td>0.286247</td>\n",
       "      <td>0.033740</td>\n",
       "      <td>0.023484</td>\n",
       "      <td>-0.641897</td>\n",
       "      <td>0.025963</td>\n",
       "      <td>-0.016608</td>\n",
       "    </tr>\n",
       "    <tr>\n",
       "      <th>peso_inicial</th>\n",
       "      <td>-0.760778</td>\n",
       "      <td>0.092137</td>\n",
       "      <td>-0.826982</td>\n",
       "      <td>1.000000</td>\n",
       "      <td>0.427609</td>\n",
       "      <td>-0.073614</td>\n",
       "      <td>-0.248924</td>\n",
       "      <td>0.083687</td>\n",
       "      <td>-0.016885</td>\n",
       "      <td>0.838153</td>\n",
       "      <td>-0.045677</td>\n",
       "      <td>0.021985</td>\n",
       "    </tr>\n",
       "    <tr>\n",
       "      <th>materia_origen</th>\n",
       "      <td>-0.440982</td>\n",
       "      <td>0.011761</td>\n",
       "      <td>-0.275288</td>\n",
       "      <td>0.427609</td>\n",
       "      <td>1.000000</td>\n",
       "      <td>0.045403</td>\n",
       "      <td>-0.020789</td>\n",
       "      <td>0.034937</td>\n",
       "      <td>0.030888</td>\n",
       "      <td>0.501336</td>\n",
       "      <td>-0.023858</td>\n",
       "      <td>0.001900</td>\n",
       "    </tr>\n",
       "    <tr>\n",
       "      <th>materia_destino</th>\n",
       "      <td>0.132007</td>\n",
       "      <td>-0.225016</td>\n",
       "      <td>0.026524</td>\n",
       "      <td>-0.073614</td>\n",
       "      <td>0.045403</td>\n",
       "      <td>1.000000</td>\n",
       "      <td>0.038382</td>\n",
       "      <td>-0.001628</td>\n",
       "      <td>-0.000300</td>\n",
       "      <td>-0.059928</td>\n",
       "      <td>0.092139</td>\n",
       "      <td>-0.054936</td>\n",
       "    </tr>\n",
       "    <tr>\n",
       "      <th>id_silo</th>\n",
       "      <td>0.152047</td>\n",
       "      <td>-0.044029</td>\n",
       "      <td>0.286247</td>\n",
       "      <td>-0.248924</td>\n",
       "      <td>-0.020789</td>\n",
       "      <td>0.038382</td>\n",
       "      <td>1.000000</td>\n",
       "      <td>-0.026996</td>\n",
       "      <td>-0.008126</td>\n",
       "      <td>-0.307376</td>\n",
       "      <td>0.019457</td>\n",
       "      <td>-0.028740</td>\n",
       "    </tr>\n",
       "    <tr>\n",
       "      <th>tam_mezcla</th>\n",
       "      <td>0.013296</td>\n",
       "      <td>0.006480</td>\n",
       "      <td>0.033740</td>\n",
       "      <td>0.083687</td>\n",
       "      <td>0.034937</td>\n",
       "      <td>-0.001628</td>\n",
       "      <td>-0.026996</td>\n",
       "      <td>1.000000</td>\n",
       "      <td>0.000563</td>\n",
       "      <td>0.024971</td>\n",
       "      <td>-0.020492</td>\n",
       "      <td>0.048222</td>\n",
       "    </tr>\n",
       "    <tr>\n",
       "      <th>desviacion</th>\n",
       "      <td>0.006722</td>\n",
       "      <td>-0.011475</td>\n",
       "      <td>0.023484</td>\n",
       "      <td>-0.016885</td>\n",
       "      <td>0.030888</td>\n",
       "      <td>-0.000300</td>\n",
       "      <td>-0.008126</td>\n",
       "      <td>0.000563</td>\n",
       "      <td>1.000000</td>\n",
       "      <td>-0.003926</td>\n",
       "      <td>-0.001190</td>\n",
       "      <td>0.001128</td>\n",
       "    </tr>\n",
       "    <tr>\n",
       "      <th>orden</th>\n",
       "      <td>-0.723325</td>\n",
       "      <td>0.096397</td>\n",
       "      <td>-0.641897</td>\n",
       "      <td>0.838153</td>\n",
       "      <td>0.501336</td>\n",
       "      <td>-0.059928</td>\n",
       "      <td>-0.307376</td>\n",
       "      <td>0.024971</td>\n",
       "      <td>-0.003926</td>\n",
       "      <td>1.000000</td>\n",
       "      <td>-0.044061</td>\n",
       "      <td>0.034808</td>\n",
       "    </tr>\n",
       "    <tr>\n",
       "      <th>hora</th>\n",
       "      <td>0.053407</td>\n",
       "      <td>-0.249985</td>\n",
       "      <td>0.025963</td>\n",
       "      <td>-0.045677</td>\n",
       "      <td>-0.023858</td>\n",
       "      <td>0.092139</td>\n",
       "      <td>0.019457</td>\n",
       "      <td>-0.020492</td>\n",
       "      <td>-0.001190</td>\n",
       "      <td>-0.044061</td>\n",
       "      <td>1.000000</td>\n",
       "      <td>0.050764</td>\n",
       "    </tr>\n",
       "    <tr>\n",
       "      <th>dow</th>\n",
       "      <td>-0.014068</td>\n",
       "      <td>0.076018</td>\n",
       "      <td>-0.016608</td>\n",
       "      <td>0.021985</td>\n",
       "      <td>0.001900</td>\n",
       "      <td>-0.054936</td>\n",
       "      <td>-0.028740</td>\n",
       "      <td>0.048222</td>\n",
       "      <td>0.001128</td>\n",
       "      <td>0.034808</td>\n",
       "      <td>0.050764</td>\n",
       "      <td>1.000000</td>\n",
       "    </tr>\n",
       "  </tbody>\n",
       "</table>\n",
       "</div>"
      ],
      "text/plain": [
       "                     cantidad_solicitada    mezcla    pesada  peso_inicial  \\\n",
       "cantidad_solicitada             1.000000 -0.123361  0.391391     -0.760778   \n",
       "mezcla                         -0.123361  1.000000 -0.030502      0.092137   \n",
       "pesada                          0.391391 -0.030502  1.000000     -0.826982   \n",
       "peso_inicial                   -0.760778  0.092137 -0.826982      1.000000   \n",
       "materia_origen                 -0.440982  0.011761 -0.275288      0.427609   \n",
       "materia_destino                 0.132007 -0.225016  0.026524     -0.073614   \n",
       "id_silo                         0.152047 -0.044029  0.286247     -0.248924   \n",
       "tam_mezcla                      0.013296  0.006480  0.033740      0.083687   \n",
       "desviacion                      0.006722 -0.011475  0.023484     -0.016885   \n",
       "orden                          -0.723325  0.096397 -0.641897      0.838153   \n",
       "hora                            0.053407 -0.249985  0.025963     -0.045677   \n",
       "dow                            -0.014068  0.076018 -0.016608      0.021985   \n",
       "\n",
       "                     materia_origen  materia_destino   id_silo  tam_mezcla  \\\n",
       "cantidad_solicitada       -0.440982         0.132007  0.152047    0.013296   \n",
       "mezcla                     0.011761        -0.225016 -0.044029    0.006480   \n",
       "pesada                    -0.275288         0.026524  0.286247    0.033740   \n",
       "peso_inicial               0.427609        -0.073614 -0.248924    0.083687   \n",
       "materia_origen             1.000000         0.045403 -0.020789    0.034937   \n",
       "materia_destino            0.045403         1.000000  0.038382   -0.001628   \n",
       "id_silo                   -0.020789         0.038382  1.000000   -0.026996   \n",
       "tam_mezcla                 0.034937        -0.001628 -0.026996    1.000000   \n",
       "desviacion                 0.030888        -0.000300 -0.008126    0.000563   \n",
       "orden                      0.501336        -0.059928 -0.307376    0.024971   \n",
       "hora                      -0.023858         0.092139  0.019457   -0.020492   \n",
       "dow                        0.001900        -0.054936 -0.028740    0.048222   \n",
       "\n",
       "                     desviacion     orden      hora       dow  \n",
       "cantidad_solicitada    0.006722 -0.723325  0.053407 -0.014068  \n",
       "mezcla                -0.011475  0.096397 -0.249985  0.076018  \n",
       "pesada                 0.023484 -0.641897  0.025963 -0.016608  \n",
       "peso_inicial          -0.016885  0.838153 -0.045677  0.021985  \n",
       "materia_origen         0.030888  0.501336 -0.023858  0.001900  \n",
       "materia_destino       -0.000300 -0.059928  0.092139 -0.054936  \n",
       "id_silo               -0.008126 -0.307376  0.019457 -0.028740  \n",
       "tam_mezcla             0.000563  0.024971 -0.020492  0.048222  \n",
       "desviacion             1.000000 -0.003926 -0.001190  0.001128  \n",
       "orden                 -0.003926  1.000000 -0.044061  0.034808  \n",
       "hora                  -0.001190 -0.044061  1.000000  0.050764  \n",
       "dow                    0.001128  0.034808  0.050764  1.000000  "
      ]
     },
     "execution_count": 22,
     "metadata": {},
     "output_type": "execute_result"
    }
   ],
   "source": [
    "df_dosificaciones.corr()"
   ]
  },
  {
   "cell_type": "code",
   "execution_count": 23,
   "id": "ab10fa0c-1fbc-4538-b811-d945f5131f3e",
   "metadata": {},
   "outputs": [
    {
     "data": {
      "image/png": "[encoded data removed]",
      "text/plain": [
       "<Figure size 432x288 with 2 Axes>"
      ]
     },
     "metadata": {
      "image/png": {
       "height": 338,
       "width": 450
      },
      "needs_background": "light"
     },
     "output_type": "display_data"
    }
   ],
   "source": [
    "sns.heatmap(df_dosificaciones.corr())\n",
    "plt.show()"
   ]
  },
  {
   "cell_type": "code",
   "execution_count": 24,
   "id": "1e566b62-3612-4020-9407-2c764b41503f",
   "metadata": {},
   "outputs": [],
   "source": [
    "var_numericas = ['cantidad_solicitada','peso_inicial', 'tam_mezcla', 'duracion']\n",
    "\n",
    "#pg = sns.pairplot(df_dosificaciones.sample(n=10000), vars=var_numericas,  \\\n",
    "#                  plot_kws={'alpha':0.1,'size':.1}, \\\n",
    "#                  diag_kws={'bins':40})"
   ]
  },
  {
   "cell_type": "code",
   "execution_count": 25,
   "id": "94274137-25af-48ea-84bf-22b8f9beaa17",
   "metadata": {},
   "outputs": [],
   "source": [
    "#df_month_pi_des = df_dosificaciones.groupby(['materia_origen','id_silo']).mean()[['peso_inicial','desviacion']]\n",
    "#df_month_pi_des.head()"
   ]
  },
  {
   "cell_type": "code",
   "execution_count": 26,
   "id": "1c66153c-4fce-4878-9db8-f4c26848640f",
   "metadata": {},
   "outputs": [],
   "source": [
    "#sns.lineplot(data=df_dosificaciones.sample(1000), x='peso_inicial', y='desviacion')"
   ]
  },
  {
   "cell_type": "code",
   "execution_count": 27,
   "id": "c5964b2d-490c-453f-a4eb-96ecd002d073",
   "metadata": {},
   "outputs": [],
   "source": [
    "#!pip install sklearn"
   ]
  },
  {
   "cell_type": "markdown",
   "id": "31a9c458-63fa-45c9-9a13-26f7da283e2c",
   "metadata": {},
   "source": [
    "11.- Guardo los datos definitivos"
   ]
  },
  {
   "cell_type": "code",
   "execution_count": 28,
   "id": "4be371b5-c497-45a9-b24e-22cdd42997d5",
   "metadata": {},
   "outputs": [],
   "source": [
    "df_dosificaciones.to_csv('datos/data_clean.zip', compression='zip')"
   ]
  },
  {
   "cell_type": "markdown",
   "id": "a285f980-c925-4a6b-b67e-9e72ec3d56ad",
   "metadata": {},
   "source": [
    "12.- Miro los valores diferentes de las variables para ver cuales pueden ser categoricas"
   ]
  },
  {
   "cell_type": "code",
   "execution_count": 29,
   "id": "19846242-b1ec-4e8c-814a-fbc99b5644d2",
   "metadata": {
    "tags": []
   },
   "outputs": [
    {
     "name": "stdout",
     "output_type": "stream",
     "text": [
      "cantidad_solicitada: 4538\n",
      "mezcla: 66\n",
      "[ 1  2  3  4  5  6  7  8  9 10 11 12 13 14 15 16 17 18 19 20 21 22 23 24\n",
      " 25 26 27 28 29 30 31 32 33 34 35 36 37 38 39 40 41 42 43 44 45 46 47 48\n",
      " 49 50 51 52 53 54 55 56 57 58 59 60 61 62 63 64 65 66]\n",
      "pesada: 2\n",
      "[0 1]\n",
      "peso_inicial: 2856\n",
      "materia_origen: 36\n",
      "[176  33 184  32   8 305 178 276   9 194 103 113 326 202 270  13 329 332\n",
      " 277 227  10 166 283 389  98 171 410 210 104 233 439 440 438 467 465 453]\n",
      "materia_destino: 59\n",
      "[285 272 264 249  39  26 312  50  41 168 247 217  53 212  58 225 107 319\n",
      " 323 321 317  48  25 314 118  49  46 215  35  61 278  62  37 310 220 291\n",
      "  56 114 124 190  60 179 181 222 251 306 308 297 299 186 444 241 244 455\n",
      " 469 472 478 484 493]\n",
      "id_silo: 24\n",
      "[15 17 14 13  2  1 26  7 20  8 25 16 12 23  6 24 21 19 22  3 11 18  4  5]\n",
      "tam_mezcla: 47\n",
      "[4000 4060 4040 4080 2000 2020 2040 4010 4200  400 4100 4140 4400 4160\n",
      " 4150 3030 4020 3000 3700 3500 4008 3005 3100 4250 4028 2525 4300 3380\n",
      " 4180 4500 4340 4290 3600 4170 4350 2400 3350 3900 2100 2500 4280 4279\n",
      " 4274 3850 4050 4090 4030]\n",
      "desviacion: 63123\n",
      "duracion: 54\n",
      "[53000000000 19000000000 41000000000 46000000000 21000000000 26000000000\n",
      " 47000000000 20000000000 22000000000 48000000000 25000000000 57000000000\n",
      " 45000000000 18000000000 44000000000 29000000000 30000000000 28000000000\n",
      " 27000000000 39000000000 31000000000 36000000000 58000000000 40000000000\n",
      " 56000000000 55000000000 24000000000 23000000000 13000000000 12000000000\n",
      " 54000000000 14000000000 33000000000 16000000000 32000000000 35000000000\n",
      " 37000000000 38000000000 51000000000 50000000000 17000000000 15000000000\n",
      " 34000000000 59000000000 11000000000 49000000000 42000000000 43000000000\n",
      " 52000000000  8000000000 10000000000  9000000000  2000000000  7000000000]\n",
      "orden: 7\n",
      "[2 3 1 4 5 6 7]\n",
      "hora: 24\n",
      "[22 23  0  1  2  3  4  5  6  7  8 13 14 15 16 17 21  9 20 12 18 19 10 11]\n",
      "dow: 7\n",
      "[0 1 2 3 4 6 5]\n"
     ]
    }
   ],
   "source": [
    "for col in df_dosificaciones:\n",
    "    print(col + \": \" + str(df_dosificaciones[col].nunique()))\n",
    "    if (df_dosificaciones[col].nunique() < 200):\n",
    "        print(df_dosificaciones[col].unique())"
   ]
  },
  {
   "cell_type": "code",
   "execution_count": 38,
   "id": "6911aa65-69cf-4202-8720-b9b719573639",
   "metadata": {},
   "outputs": [],
   "source": [
    "from sklearn.pipeline import Pipeline\n",
    "from sklearn.preprocessing import StandardScaler\n",
    "from sklearn.impute import SimpleImputer\n",
    "from sklearn.preprocessing import OneHotEncoder\n",
    "from sklearn.compose import ColumnTransformer\n",
    "\n",
    "cat_features = ['materia_origen', 'materia_destino', 'pesada','id_silo', 'orden', 'hora', 'dow']#'mes', 'dia'\n",
    "num_features = ['cantidad_solicitada','peso_inicial','tam_mezcla', 'mezcla','duracion']\n",
    "\n",
    "num_transformer = Pipeline([('imputer',SimpleImputer()),\n",
    "                            ('standard_scaler', StandardScaler())])\n",
    "\n",
    "cat_transformer = Pipeline([('simple_imputer', SimpleImputer(strategy='constant')),\n",
    "                            ('one_hot_encoder', OneHotEncoder(handle_unknown='ignore'))])\n",
    "\n",
    "column_trans = ColumnTransformer(\n",
    "                transformers=[\n",
    "                    ('num',num_transformer,num_features),\n",
    "                    ('cat',cat_transformer,cat_features)])\n"
   ]
  },
  {
   "cell_type": "code",
   "execution_count": 39,
   "id": "234e4186-679b-4d10-ac7d-1ab088dc752d",
   "metadata": {},
   "outputs": [
    {
     "name": "stderr",
     "output_type": "stream",
     "text": [
      "/Users/jlcasado/MCIDAEN/mc1-tfm/venv/lib/python3.7/site-packages/ipykernel_launcher.py:3: FutureWarning: In a future version of pandas all arguments of DataFrame.drop except for the argument 'labels' will be keyword-only\n",
      "  This is separate from the ipykernel package so we can avoid doing imports until\n"
     ]
    }
   ],
   "source": [
    "from sklearn.model_selection import train_test_split\n",
    "\n",
    "X = df_dosificaciones.drop('desviacion',1)\n",
    "y = df_dosificaciones['desviacion']\n",
    "\n",
    "X_train, X_test, y_train, y_test = train_test_split(X, y, test_size=0.33, random_state=0)"
   ]
  },
  {
   "cell_type": "code",
   "execution_count": 40,
   "id": "fba6f943-d0c5-4099-9954-3c8a027615e2",
   "metadata": {},
   "outputs": [
    {
     "data": {
      "text/html": [
       "<div>\n",
       "<style scoped>\n",
       "    .dataframe tbody tr th:only-of-type {\n",
       "        vertical-align: middle;\n",
       "    }\n",
       "\n",
       "    .dataframe tbody tr th {\n",
       "        vertical-align: top;\n",
       "    }\n",
       "\n",
       "    .dataframe thead th {\n",
       "        text-align: right;\n",
       "    }\n",
       "</style>\n",
       "<table border=\"1\" class=\"dataframe\">\n",
       "  <thead>\n",
       "    <tr style=\"text-align: right;\">\n",
       "      <th></th>\n",
       "      <th>cantidad_solicitada</th>\n",
       "      <th>mezcla</th>\n",
       "      <th>pesada</th>\n",
       "      <th>peso_inicial</th>\n",
       "      <th>materia_origen</th>\n",
       "      <th>materia_destino</th>\n",
       "      <th>id_silo</th>\n",
       "      <th>tam_mezcla</th>\n",
       "      <th>duracion</th>\n",
       "      <th>orden</th>\n",
       "      <th>hora</th>\n",
       "      <th>dow</th>\n",
       "    </tr>\n",
       "    <tr>\n",
       "      <th>codigo</th>\n",
       "      <th></th>\n",
       "      <th></th>\n",
       "      <th></th>\n",
       "      <th></th>\n",
       "      <th></th>\n",
       "      <th></th>\n",
       "      <th></th>\n",
       "      <th></th>\n",
       "      <th></th>\n",
       "      <th></th>\n",
       "      <th></th>\n",
       "      <th></th>\n",
       "    </tr>\n",
       "  </thead>\n",
       "  <tbody>\n",
       "    <tr>\n",
       "      <th>1308966</th>\n",
       "      <td>1187.738199</td>\n",
       "      <td>1</td>\n",
       "      <td>0</td>\n",
       "      <td>1592</td>\n",
       "      <td>176</td>\n",
       "      <td>285</td>\n",
       "      <td>15</td>\n",
       "      <td>4000</td>\n",
       "      <td>0</td>\n",
       "      <td>2</td>\n",
       "      <td>22</td>\n",
       "      <td>0</td>\n",
       "    </tr>\n",
       "    <tr>\n",
       "      <th>1308971</th>\n",
       "      <td>180.008820</td>\n",
       "      <td>1</td>\n",
       "      <td>0</td>\n",
       "      <td>2799</td>\n",
       "      <td>33</td>\n",
       "      <td>285</td>\n",
       "      <td>17</td>\n",
       "      <td>4000</td>\n",
       "      <td>0</td>\n",
       "      <td>3</td>\n",
       "      <td>22</td>\n",
       "      <td>0</td>\n",
       "    </tr>\n",
       "    <tr>\n",
       "      <th>1308973</th>\n",
       "      <td>768.557659</td>\n",
       "      <td>1</td>\n",
       "      <td>1</td>\n",
       "      <td>2</td>\n",
       "      <td>184</td>\n",
       "      <td>285</td>\n",
       "      <td>14</td>\n",
       "      <td>4000</td>\n",
       "      <td>0</td>\n",
       "      <td>1</td>\n",
       "      <td>22</td>\n",
       "      <td>0</td>\n",
       "    </tr>\n",
       "    <tr>\n",
       "      <th>1308978</th>\n",
       "      <td>1187.738199</td>\n",
       "      <td>2</td>\n",
       "      <td>0</td>\n",
       "      <td>1581</td>\n",
       "      <td>176</td>\n",
       "      <td>285</td>\n",
       "      <td>15</td>\n",
       "      <td>4000</td>\n",
       "      <td>0</td>\n",
       "      <td>2</td>\n",
       "      <td>22</td>\n",
       "      <td>0</td>\n",
       "    </tr>\n",
       "    <tr>\n",
       "      <th>1308980</th>\n",
       "      <td>180.008820</td>\n",
       "      <td>2</td>\n",
       "      <td>0</td>\n",
       "      <td>2769</td>\n",
       "      <td>33</td>\n",
       "      <td>285</td>\n",
       "      <td>17</td>\n",
       "      <td>4000</td>\n",
       "      <td>0</td>\n",
       "      <td>3</td>\n",
       "      <td>22</td>\n",
       "      <td>0</td>\n",
       "    </tr>\n",
       "  </tbody>\n",
       "</table>\n",
       "</div>"
      ],
      "text/plain": [
       "         cantidad_solicitada  mezcla  pesada  peso_inicial  materia_origen  \\\n",
       "codigo                                                                       \n",
       "1308966          1187.738199       1       0          1592             176   \n",
       "1308971           180.008820       1       0          2799              33   \n",
       "1308973           768.557659       1       1             2             184   \n",
       "1308978          1187.738199       2       0          1581             176   \n",
       "1308980           180.008820       2       0          2769              33   \n",
       "\n",
       "         materia_destino  id_silo  tam_mezcla  duracion  orden  hora  dow  \n",
       "codigo                                                                     \n",
       "1308966              285       15        4000         0      2    22    0  \n",
       "1308971              285       17        4000         0      3    22    0  \n",
       "1308973              285       14        4000         0      1    22    0  \n",
       "1308978              285       15        4000         0      2    22    0  \n",
       "1308980              285       17        4000         0      3    22    0  "
      ]
     },
     "execution_count": 40,
     "metadata": {},
     "output_type": "execute_result"
    }
   ],
   "source": [
    "X.head()"
   ]
  },
  {
   "cell_type": "code",
   "execution_count": 41,
   "id": "e76f1f2a-43da-424d-8c7a-e7313eb19649",
   "metadata": {},
   "outputs": [],
   "source": [
    "X_train_prep = column_trans.fit_transform(X_train)\n",
    "X_test_prep  = column_trans.transform(X_test)"
   ]
  },
  {
   "cell_type": "code",
   "execution_count": 42,
   "id": "c1ff45e9-8201-4efe-9f14-9a2da1bd8b67",
   "metadata": {},
   "outputs": [
    {
     "data": {
      "text/plain": [
       "LinearRegression()"
      ]
     },
     "execution_count": 42,
     "metadata": {},
     "output_type": "execute_result"
    }
   ],
   "source": [
    "from sklearn.linear_model import LinearRegression\n",
    "\n",
    "linr_model = LinearRegression()\n",
    "\n",
    "linr_model.fit(X_train_prep, y_train)"
   ]
  },
  {
   "cell_type": "code",
   "execution_count": 43,
   "id": "fa37169f-e560-41eb-85ed-36615f9a2650",
   "metadata": {},
   "outputs": [
    {
     "name": "stdout",
     "output_type": "stream",
     "text": [
      "Linear regression\n",
      "Error de entrenamiento:  43.68636991673402\n",
      "Error de test:  44.17830115489623\n"
     ]
    }
   ],
   "source": [
    "from sklearn.metrics import mean_squared_error\n",
    "\n",
    "y_pred = linr_model.predict(X_train_prep)\n",
    "y_pred_test = linr_model.predict(X_test_prep)\n",
    "\n",
    "print(\"Linear regression\")\n",
    "print(\"Error de entrenamiento: \", mean_squared_error(y_train, y_pred))\n",
    "print(\"Error de test: \", mean_squared_error(y_test, y_pred_test))"
   ]
  },
  {
   "cell_type": "code",
   "execution_count": 44,
   "id": "846035d5-d96c-4f22-a889-0d202c8171c7",
   "metadata": {},
   "outputs": [],
   "source": [
    "from sklearn.linear_model import Ridge\n",
    "from sklearn.model_selection import GridSearchCV\n",
    "\n",
    "lr_model = Ridge();\n",
    "\n",
    "churn_pipe_lr = Pipeline([('prep', column_trans),\n",
    "                            ('clas', lr_model)])"
   ]
  },
  {
   "cell_type": "code",
   "execution_count": 46,
   "id": "1693805f-7a55-48ef-9ccc-64b2a0c018d2",
   "metadata": {
    "tags": []
   },
   "outputs": [
    {
     "name": "stdout",
     "output_type": "stream",
     "text": [
      "Mejor score:  -42.994940942993466\n",
      "Mejore configuración de parámetros:  {'clas__alpha': 1, 'prep__num__imputer__strategy': 'mean'}\n"
     ]
    }
   ],
   "source": [
    "parameters = {}\n",
    "parameters['prep__num__imputer__strategy'] = ['mean', 'median']\n",
    "parameters['clas__alpha'] = [1,0.1,0.01,0.001,0.0001,0]\n",
    "\n",
    "X_sample = X_train.sample(n=10000)\n",
    "y_sample = y_train[X_sample.index]\n",
    "\n",
    "GS = GridSearchCV(estimator=churn_pipe_lr, param_grid=parameters, scoring='neg_mean_squared_error', cv=5)\n",
    "GS = GS.fit(X_sample, y_sample)\t\n",
    "    \n",
    "print(\"Mejor score: \", GS.best_score_)\n",
    "print(\"Mejore configuración de parámetros: \", GS.best_params_)\n"
   ]
  },
  {
   "cell_type": "code",
   "execution_count": 47,
   "id": "3a91b089-c777-415f-95db-9d6560a53803",
   "metadata": {},
   "outputs": [
    {
     "data": {
      "text/plain": [
       "Ridge(alpha=1)"
      ]
     },
     "execution_count": 47,
     "metadata": {},
     "output_type": "execute_result"
    }
   ],
   "source": [
    "ridge_model = Ridge(alpha=1);\n",
    "\n",
    "ridge_model.fit(X_train_prep, y_train) "
   ]
  },
  {
   "cell_type": "code",
   "execution_count": 48,
   "id": "3a8e4351-7f14-429b-8831-dd7e0fb604c5",
   "metadata": {},
   "outputs": [
    {
     "name": "stdout",
     "output_type": "stream",
     "text": [
      "Error de entrenamiento:  43.68777432659318\n",
      "Error de test:  44.17699112567424\n"
     ]
    }
   ],
   "source": [
    "y_pred = ridge_model.predict(X_train_prep)\n",
    "y_pred_test = ridge_model.predict(X_test_prep)\n",
    "\n",
    "print(\"Error de entrenamiento: \", mean_squared_error(y_train, y_pred))\n",
    "print(\"Error de test: \", mean_squared_error(y_test, y_pred_test))"
   ]
  },
  {
   "cell_type": "code",
   "execution_count": 49,
   "id": "f4144e68-30a1-480d-9d81-dc4a3341e3db",
   "metadata": {},
   "outputs": [],
   "source": [
    "import pickle\n",
    "nombre_modelo = 'modelo_ridge.pkl'\n",
    "\n",
    "pickle.dump(ridge_model, open(nombre_modelo,'wb'))"
   ]
  },
  {
   "cell_type": "code",
   "execution_count": 50,
   "id": "aa067cde-8799-47d2-9f69-9c17965aa965",
   "metadata": {},
   "outputs": [],
   "source": [
    "loaded_model = pickle.load(open(nombre_modelo, 'rb'))"
   ]
  },
  {
   "cell_type": "code",
   "execution_count": 51,
   "id": "b41e64f8-1aa5-4270-a345-e4c13fd8fad5",
   "metadata": {},
   "outputs": [],
   "source": [
    "y_pred = loaded_model.predict(X_test_prep)"
   ]
  },
  {
   "cell_type": "code",
   "execution_count": 52,
   "id": "68182a70-41b9-4928-a394-d85371d819ed",
   "metadata": {},
   "outputs": [
    {
     "name": "stdout",
     "output_type": "stream",
     "text": [
      "Ridge\n",
      "Error de entrenamiento:  44.17699112567424\n"
     ]
    }
   ],
   "source": [
    "print(\"Ridge\")\n",
    "print(\"Error de entrenamiento: \", mean_squared_error(y_test, y_pred))"
   ]
  },
  {
   "cell_type": "code",
   "execution_count": 53,
   "id": "06cfe483-19a8-4848-887e-fc7be85926f8",
   "metadata": {},
   "outputs": [],
   "source": [
    "from sklearn.model_selection import RandomizedSearchCV, RepeatedKFold\n",
    "\n",
    "from sklearn.ensemble import RandomForestRegressor\n",
    "\n",
    "# Se combinan los pasos de preprocesado y el modelo en un mismo pipeline.\n",
    "pipe = Pipeline([('prep', column_trans),\n",
    "                ('modelo',  RandomForestRegressor())])\n",
    "\n",
    "# Optimización de hiperparámetros\n",
    "# ==============================================================================\n",
    "# Espacio de búsqueda de cada hiperparámetro\n",
    "\n",
    "param_distributions = {\n",
    "    'modelo__n_estimators': [50, 100, 200, 1000],\n",
    "    'modelo__max_features': [\"auto\", 3, 5, 7, 10],\n",
    "    'modelo__max_depth'   : [None, 3, 5, 10, 20]\n",
    "}\n",
    "\n",
    "# Búsqueda random grid\n",
    "grid = RandomizedSearchCV(\n",
    "        estimator  = pipe,\n",
    "        param_distributions = param_distributions,\n",
    "        n_iter     = 20,\n",
    "        scoring    = 'neg_root_mean_squared_error',\n",
    "        cv         = RepeatedKFold(n_splits = 5, n_repeats = 3),\n",
    "        refit      = True, \n",
    "        verbose    = 0,\n",
    "        random_state = 123,\n",
    "        return_train_score = True\n",
    "       )"
   ]
  },
  {
   "cell_type": "code",
   "execution_count": 54,
   "id": "cb6a2669-8314-42cf-9f34-847694815c92",
   "metadata": {},
   "outputs": [],
   "source": [
    "X_sample = X_train.sample(n=1000)\n",
    "y_sample = y_train[X_sample.index]"
   ]
  },
  {
   "cell_type": "code",
   "execution_count": 55,
   "id": "ca5b68a2-53e9-4c42-8333-daf6d25195df",
   "metadata": {},
   "outputs": [
    {
     "data": {
      "text/html": [
       "<div>\n",
       "<style scoped>\n",
       "    .dataframe tbody tr th:only-of-type {\n",
       "        vertical-align: middle;\n",
       "    }\n",
       "\n",
       "    .dataframe tbody tr th {\n",
       "        vertical-align: top;\n",
       "    }\n",
       "\n",
       "    .dataframe thead th {\n",
       "        text-align: right;\n",
       "    }\n",
       "</style>\n",
       "<table border=\"1\" class=\"dataframe\">\n",
       "  <thead>\n",
       "    <tr style=\"text-align: right;\">\n",
       "      <th></th>\n",
       "      <th>param_modelo__n_estimators</th>\n",
       "      <th>param_modelo__max_features</th>\n",
       "      <th>param_modelo__max_depth</th>\n",
       "      <th>mean_test_score</th>\n",
       "      <th>std_test_score</th>\n",
       "      <th>mean_train_score</th>\n",
       "      <th>std_train_score</th>\n",
       "    </tr>\n",
       "  </thead>\n",
       "  <tbody>\n",
       "    <tr>\n",
       "      <th>5</th>\n",
       "      <td>50</td>\n",
       "      <td>auto</td>\n",
       "      <td>None</td>\n",
       "      <td>-6.643096</td>\n",
       "      <td>0.327925</td>\n",
       "      <td>-2.519441</td>\n",
       "      <td>0.050758</td>\n",
       "    </tr>\n",
       "  </tbody>\n",
       "</table>\n",
       "</div>"
      ],
      "text/plain": [
       "  param_modelo__n_estimators param_modelo__max_features  \\\n",
       "5                         50                       auto   \n",
       "\n",
       "  param_modelo__max_depth  mean_test_score  std_test_score  mean_train_score  \\\n",
       "5                    None        -6.643096        0.327925         -2.519441   \n",
       "\n",
       "   std_train_score  \n",
       "5         0.050758  "
      ]
     },
     "execution_count": 55,
     "metadata": {},
     "output_type": "execute_result"
    }
   ],
   "source": [
    "grid.fit(X = X_sample, y = y_sample)\n",
    "\n",
    "# Resultados del grid\n",
    "# ==============================================================================\n",
    "resultados = pd.DataFrame(grid.cv_results_)\n",
    "resultados.filter(regex = '(param.*|mean_t|std_t)')\\\n",
    "    .drop(columns = 'params')\\\n",
    "    .sort_values('mean_test_score', ascending = True)\\\n",
    "    .head(1)"
   ]
  },
  {
   "cell_type": "code",
   "execution_count": 56,
   "id": "485b799e-7c01-4e41-8584-b4f16ef64725",
   "metadata": {},
   "outputs": [
    {
     "name": "stdout",
     "output_type": "stream",
     "text": [
      "Mejor score:  -6.379962387335862\n",
      "Mejore configuración de parámetros:  {'modelo__n_estimators': 100, 'modelo__max_features': 10, 'modelo__max_depth': 10}\n"
     ]
    }
   ],
   "source": [
    "print(\"Mejor score: \", grid.best_score_)\n",
    "print(\"Mejore configuración de parámetros: \", grid.best_params_)"
   ]
  },
  {
   "cell_type": "code",
   "execution_count": 57,
   "id": "c6c81073-ce88-43c9-97a5-8c17bcfea0a1",
   "metadata": {},
   "outputs": [
    {
     "data": {
      "text/plain": [
       "RandomForestRegressor(max_depth=10, max_features=10)"
      ]
     },
     "execution_count": 57,
     "metadata": {},
     "output_type": "execute_result"
    }
   ],
   "source": [
    "rf_model = RandomForestRegressor(n_estimators=100,max_features=10,max_depth=10)\n",
    "\n",
    "rf_model.fit(X_train_prep, y_train)"
   ]
  },
  {
   "cell_type": "code",
   "execution_count": 58,
   "id": "d6d5a476-7526-4cbe-8d85-bdd04be5d12a",
   "metadata": {},
   "outputs": [
    {
     "name": "stdout",
     "output_type": "stream",
     "text": [
      "Error de entrenamiento:  41.9157143986831\n",
      "Error de test:  42.79118013855667\n"
     ]
    }
   ],
   "source": [
    "y_pred = rf_model.predict(X_train_prep)\n",
    "y_pred_test = rf_model.predict(X_test_prep)\n",
    "\n",
    "print(\"Error de entrenamiento: \", mean_squared_error(y_train, y_pred))\n",
    "print(\"Error de test: \", mean_squared_error(y_test, y_pred_test))"
   ]
  }
 ],
 "metadata": {
  "kernelspec": {
   "display_name": "Python 3 (ipykernel)",
   "language": "python",
   "name": "python3"
  },
  "language_info": {
   "codemirror_mode": {
    "name": "ipython",
    "version": 3
   },
   "file_extension": ".py",
   "mimetype": "text/x-python",
   "name": "python",
   "nbconvert_exporter": "python",
   "pygments_lexer": "ipython3",
   "version": "3.7.9"
  }
 },
 "nbformat": 4,
 "nbformat_minor": 5
}
